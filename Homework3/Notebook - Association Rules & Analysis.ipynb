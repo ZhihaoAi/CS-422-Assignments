{
 "cells": [
  {
   "cell_type": "code",
   "execution_count": 2,
   "metadata": {
    "collapsed": true
   },
   "outputs": [],
   "source": [
    "import math\n",
    "import numpy as np\n",
    "import pandas as pd\n",
    "\n",
    "from sklearn.metrics.pairwise import cosine_similarity"
   ]
  },
  {
   "cell_type": "code",
   "execution_count": 3,
   "metadata": {
    "collapsed": true
   },
   "outputs": [],
   "source": [
    "data = pd.read_csv('75000-out2-binary.csv')"
   ]
  },
  {
   "cell_type": "code",
   "execution_count": 4,
   "metadata": {},
   "outputs": [
    {
     "data": {
      "text/html": [
       "<div>\n",
       "<style>\n",
       "    .dataframe thead tr:only-child th {\n",
       "        text-align: right;\n",
       "    }\n",
       "\n",
       "    .dataframe thead th {\n",
       "        text-align: left;\n",
       "    }\n",
       "\n",
       "    .dataframe tbody tr th {\n",
       "        vertical-align: top;\n",
       "    }\n",
       "</style>\n",
       "<table border=\"1\" class=\"dataframe\">\n",
       "  <thead>\n",
       "    <tr style=\"text-align: right;\">\n",
       "      <th></th>\n",
       "      <th>Transaction Number</th>\n",
       "      <th>Chocolate Cake</th>\n",
       "      <th>Lemon Cake</th>\n",
       "      <th>Casino Cake</th>\n",
       "      <th>Opera Cake</th>\n",
       "      <th>Strawberry Cake</th>\n",
       "      <th>Truffle Cake</th>\n",
       "      <th>Chocolate Eclair</th>\n",
       "      <th>Coffee Eclair</th>\n",
       "      <th>Vanilla Eclair</th>\n",
       "      <th>...</th>\n",
       "      <th>Lemon Lemonade</th>\n",
       "      <th>Raspberry Lemonade</th>\n",
       "      <th>Orange Juice</th>\n",
       "      <th>Green Tea</th>\n",
       "      <th>Bottled Water</th>\n",
       "      <th>Hot Coffee</th>\n",
       "      <th>Chocolate Coffee</th>\n",
       "      <th>Vanilla Frappuccino</th>\n",
       "      <th>Cherry Soda</th>\n",
       "      <th>Single Espresso</th>\n",
       "    </tr>\n",
       "  </thead>\n",
       "  <tbody>\n",
       "    <tr>\n",
       "      <th>0</th>\n",
       "      <td>1</td>\n",
       "      <td>0</td>\n",
       "      <td>0</td>\n",
       "      <td>0</td>\n",
       "      <td>0</td>\n",
       "      <td>0</td>\n",
       "      <td>0</td>\n",
       "      <td>0</td>\n",
       "      <td>0</td>\n",
       "      <td>0</td>\n",
       "      <td>...</td>\n",
       "      <td>0</td>\n",
       "      <td>0</td>\n",
       "      <td>0</td>\n",
       "      <td>0</td>\n",
       "      <td>0</td>\n",
       "      <td>0</td>\n",
       "      <td>0</td>\n",
       "      <td>0</td>\n",
       "      <td>0</td>\n",
       "      <td>0</td>\n",
       "    </tr>\n",
       "    <tr>\n",
       "      <th>1</th>\n",
       "      <td>2</td>\n",
       "      <td>0</td>\n",
       "      <td>0</td>\n",
       "      <td>0</td>\n",
       "      <td>0</td>\n",
       "      <td>0</td>\n",
       "      <td>0</td>\n",
       "      <td>0</td>\n",
       "      <td>1</td>\n",
       "      <td>0</td>\n",
       "      <td>...</td>\n",
       "      <td>0</td>\n",
       "      <td>0</td>\n",
       "      <td>0</td>\n",
       "      <td>0</td>\n",
       "      <td>0</td>\n",
       "      <td>1</td>\n",
       "      <td>0</td>\n",
       "      <td>0</td>\n",
       "      <td>0</td>\n",
       "      <td>0</td>\n",
       "    </tr>\n",
       "    <tr>\n",
       "      <th>2</th>\n",
       "      <td>3</td>\n",
       "      <td>0</td>\n",
       "      <td>0</td>\n",
       "      <td>0</td>\n",
       "      <td>1</td>\n",
       "      <td>0</td>\n",
       "      <td>0</td>\n",
       "      <td>0</td>\n",
       "      <td>0</td>\n",
       "      <td>0</td>\n",
       "      <td>...</td>\n",
       "      <td>0</td>\n",
       "      <td>0</td>\n",
       "      <td>1</td>\n",
       "      <td>0</td>\n",
       "      <td>0</td>\n",
       "      <td>0</td>\n",
       "      <td>0</td>\n",
       "      <td>0</td>\n",
       "      <td>0</td>\n",
       "      <td>0</td>\n",
       "    </tr>\n",
       "    <tr>\n",
       "      <th>3</th>\n",
       "      <td>4</td>\n",
       "      <td>0</td>\n",
       "      <td>0</td>\n",
       "      <td>0</td>\n",
       "      <td>0</td>\n",
       "      <td>0</td>\n",
       "      <td>1</td>\n",
       "      <td>0</td>\n",
       "      <td>0</td>\n",
       "      <td>0</td>\n",
       "      <td>...</td>\n",
       "      <td>0</td>\n",
       "      <td>0</td>\n",
       "      <td>0</td>\n",
       "      <td>0</td>\n",
       "      <td>0</td>\n",
       "      <td>0</td>\n",
       "      <td>0</td>\n",
       "      <td>1</td>\n",
       "      <td>0</td>\n",
       "      <td>0</td>\n",
       "    </tr>\n",
       "    <tr>\n",
       "      <th>4</th>\n",
       "      <td>5</td>\n",
       "      <td>0</td>\n",
       "      <td>0</td>\n",
       "      <td>0</td>\n",
       "      <td>0</td>\n",
       "      <td>0</td>\n",
       "      <td>0</td>\n",
       "      <td>1</td>\n",
       "      <td>0</td>\n",
       "      <td>0</td>\n",
       "      <td>...</td>\n",
       "      <td>0</td>\n",
       "      <td>0</td>\n",
       "      <td>1</td>\n",
       "      <td>0</td>\n",
       "      <td>0</td>\n",
       "      <td>0</td>\n",
       "      <td>0</td>\n",
       "      <td>0</td>\n",
       "      <td>0</td>\n",
       "      <td>0</td>\n",
       "    </tr>\n",
       "  </tbody>\n",
       "</table>\n",
       "<p>5 rows × 51 columns</p>\n",
       "</div>"
      ],
      "text/plain": [
       "   Transaction Number  Chocolate Cake  Lemon Cake  Casino Cake  Opera Cake  \\\n",
       "0                   1               0           0            0           0   \n",
       "1                   2               0           0            0           0   \n",
       "2                   3               0           0            0           1   \n",
       "3                   4               0           0            0           0   \n",
       "4                   5               0           0            0           0   \n",
       "\n",
       "   Strawberry Cake  Truffle Cake  Chocolate Eclair  Coffee Eclair  \\\n",
       "0                0             0                 0              0   \n",
       "1                0             0                 0              1   \n",
       "2                0             0                 0              0   \n",
       "3                0             1                 0              0   \n",
       "4                0             0                 1              0   \n",
       "\n",
       "   Vanilla Eclair       ...         Lemon Lemonade  Raspberry Lemonade  \\\n",
       "0               0       ...                      0                   0   \n",
       "1               0       ...                      0                   0   \n",
       "2               0       ...                      0                   0   \n",
       "3               0       ...                      0                   0   \n",
       "4               0       ...                      0                   0   \n",
       "\n",
       "   Orange Juice  Green Tea  Bottled Water  Hot Coffee  Chocolate Coffee  \\\n",
       "0             0          0              0           0                 0   \n",
       "1             0          0              0           1                 0   \n",
       "2             1          0              0           0                 0   \n",
       "3             0          0              0           0                 0   \n",
       "4             1          0              0           0                 0   \n",
       "\n",
       "   Vanilla Frappuccino  Cherry Soda  Single Espresso  \n",
       "0                    0            0                0  \n",
       "1                    0            0                0  \n",
       "2                    0            0                0  \n",
       "3                    1            0                0  \n",
       "4                    0            0                0  \n",
       "\n",
       "[5 rows x 51 columns]"
      ]
     },
     "execution_count": 4,
     "metadata": {},
     "output_type": "execute_result"
    }
   ],
   "source": [
    "data.head()"
   ]
  },
  {
   "cell_type": "code",
   "execution_count": 5,
   "metadata": {
    "collapsed": true
   },
   "outputs": [],
   "source": [
    "item1_name = 'Cheese Croissant'\n",
    "item2_name = 'Orange Juice'\n",
    "\n",
    "selection = data[[item1_name,\n",
    "                  item2_name]]"
   ]
  },
  {
   "cell_type": "code",
   "execution_count": 12,
   "metadata": {
    "collapsed": true
   },
   "outputs": [],
   "source": [
    "item1_count = selection[item1_name] == 1\n",
    "item2_count = selection[item2_name] == 1"
   ]
  },
  {
   "cell_type": "code",
   "execution_count": 19,
   "metadata": {},
   "outputs": [
    {
     "name": "stdout",
     "output_type": "stream",
     "text": [
      "                               Cheese Croissant  Orange Juice\n",
      "Cheese Croissant Orange Juice                                \n",
      "False            False                    65193         65193\n",
      "                 True                      3641          3641\n",
      "True             False                     2936          2936\n",
      "                 True                      3230          3230\n"
     ]
    }
   ],
   "source": [
    "f = selection.groupby([item1_count,\n",
    "                       item2_count]).count()\n",
    "print(f)"
   ]
  },
  {
   "cell_type": "code",
   "execution_count": 23,
   "metadata": {},
   "outputs": [
    {
     "name": "stdout",
     "output_type": "stream",
     "text": [
      "65193\n",
      "3641\n",
      "2936\n",
      "3230\n"
     ]
    }
   ],
   "source": [
    "f00 = f[item1_name][0][0]\n",
    "f01 = f[item1_name][0][1]\n",
    "f10 = f[item2_name][1][0]\n",
    "f11 = f[item2_name][1][1]\n",
    "\n",
    "print(f00)\n",
    "print(f01)\n",
    "print(f10)\n",
    "print(f11)"
   ]
  },
  {
   "cell_type": "code",
   "execution_count": 26,
   "metadata": {},
   "outputs": [
    {
     "name": "stdout",
     "output_type": "stream",
     "text": [
      "6166\n",
      "6871\n",
      "68834\n",
      "68129\n"
     ]
    }
   ],
   "source": [
    "f1p = f11 + f10\n",
    "fp1 = f11 + f01\n",
    "f0p = f01 + f00\n",
    "fp0 = f10 + f00\n",
    "\n",
    "print(f1p)\n",
    "print(fp1)\n",
    "print(f0p)\n",
    "print(fp0)"
   ]
  },
  {
   "cell_type": "code",
   "execution_count": 9,
   "metadata": {},
   "outputs": [
    {
     "name": "stdout",
     "output_type": "stream",
     "text": [
      "75000\n",
      "75000\n"
     ]
    }
   ],
   "source": [
    "n = f1p + f0p\n",
    "print(n)\n",
    "\n",
    "n = fp1 + fp0\n",
    "print(n)"
   ]
  },
  {
   "cell_type": "code",
   "execution_count": 10,
   "metadata": {},
   "outputs": [
    {
     "name": "stdout",
     "output_type": "stream",
     "text": [
      "0.0430666666667\n",
      "0.52384041518\n"
     ]
    }
   ],
   "source": [
    "s = f11 / n\n",
    "print(s)\n",
    "\n",
    "c = f11 / f1p\n",
    "print(c)"
   ]
  },
  {
   "cell_type": "code",
   "execution_count": 11,
   "metadata": {
    "scrolled": true
   },
   "outputs": [
    {
     "name": "stdout",
     "output_type": "stream",
     "text": [
      "5.71794951805\n",
      "5.71794951805\n"
     ]
    }
   ],
   "source": [
    "lift = c / (fp1 / n)\n",
    "print(lift)\n",
    "\n",
    "I = n*f11 / (f1p * fp1)\n",
    "print(I)"
   ]
  },
  {
   "cell_type": "code",
   "execution_count": 12,
   "metadata": {},
   "outputs": [
    {
     "name": "stdout",
     "output_type": "stream",
     "text": [
      "0.496238879886\n",
      "0.49623887988604926\n"
     ]
    }
   ],
   "source": [
    "s_a = f1p / n\n",
    "s_b = fp1 / n\n",
    "s_ab = f11 / n\n",
    "\n",
    "c_ab = s_ab / s_a\n",
    "c_ba = s_ab / s_b\n",
    "\n",
    "IS = s_ab / (math.sqrt(s_a * s_b))\n",
    "print(IS)\n",
    "\n",
    "IS = math.sqrt(c_ab * c_ba)\n",
    "print(IS)"
   ]
  },
  {
   "cell_type": "code",
   "execution_count": 13,
   "metadata": {},
   "outputs": [
    {
     "name": "stdout",
     "output_type": "stream",
     "text": [
      "0.496238879886\n",
      "0.496238879886\n"
     ]
    }
   ],
   "source": [
    "x = selection[item1_name]\n",
    "y = selection[item2_name]\n",
    "\n",
    "cos_xy = np.dot(x,y) / (np.linalg.norm(x) * np.linalg.norm(y))\n",
    "print(cos_xy)\n",
    "\n",
    "cos_xy = cosine_similarity(selection[item1_name].values.reshape(1, -1),\n",
    "                           selection[item2_name].values.reshape(1, -1)).ravel()[0]\n",
    "print(cos_xy)"
   ]
  }
 ],
 "metadata": {
  "kernelspec": {
   "display_name": "Python 3",
   "language": "python",
   "name": "python3"
  },
  "language_info": {
   "codemirror_mode": {
    "name": "ipython",
    "version": 3
   },
   "file_extension": ".py",
   "mimetype": "text/x-python",
   "name": "python",
   "nbconvert_exporter": "python",
   "pygments_lexer": "ipython3",
   "version": "3.5.2"
  }
 },
 "nbformat": 4,
 "nbformat_minor": 2
}
