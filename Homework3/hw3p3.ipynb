{
 "cells": [
  {
   "cell_type": "code",
   "execution_count": 1,
   "metadata": {
    "collapsed": true
   },
   "outputs": [],
   "source": [
    "import math\n",
    "import numpy as np\n",
    "import pandas as pd"
   ]
  },
  {
   "cell_type": "code",
   "execution_count": 2,
   "metadata": {
    "collapsed": true
   },
   "outputs": [],
   "source": [
    "data = pd.read_csv('75000-out2-binary.csv')"
   ]
  },
  {
   "cell_type": "code",
   "execution_count": 3,
   "metadata": {
    "collapsed": true
   },
   "outputs": [],
   "source": [
    "item1_name = 'Chocolate Coffee'\n",
    "item2_name = 'Chocolate Cake'\n",
    "\n",
    "selection = data[[item1_name,\n",
    "                  item2_name]]"
   ]
  },
  {
   "cell_type": "code",
   "execution_count": 5,
   "metadata": {
    "collapsed": true
   },
   "outputs": [],
   "source": [
    "item1_count = selection[item1_name] == 1\n",
    "item2_count = selection[item2_name] == 1"
   ]
  },
  {
   "cell_type": "code",
   "execution_count": 19,
   "metadata": {},
   "outputs": [
    {
     "data": {
      "text/html": [
       "<div>\n",
       "<style>\n",
       "    .dataframe thead tr:only-child th {\n",
       "        text-align: right;\n",
       "    }\n",
       "\n",
       "    .dataframe thead th {\n",
       "        text-align: left;\n",
       "    }\n",
       "\n",
       "    .dataframe tbody tr th {\n",
       "        vertical-align: top;\n",
       "    }\n",
       "</style>\n",
       "<table border=\"1\" class=\"dataframe\">\n",
       "  <thead>\n",
       "    <tr style=\"text-align: right;\">\n",
       "      <th></th>\n",
       "      <th></th>\n",
       "      <th>Chocolate Coffee</th>\n",
       "      <th>Chocolate Cake</th>\n",
       "    </tr>\n",
       "    <tr>\n",
       "      <th>Chocolate Coffee</th>\n",
       "      <th>Chocolate Cake</th>\n",
       "      <th></th>\n",
       "      <th></th>\n",
       "    </tr>\n",
       "  </thead>\n",
       "  <tbody>\n",
       "    <tr>\n",
       "      <th rowspan=\"2\" valign=\"top\">False</th>\n",
       "      <th>False</th>\n",
       "      <td>65802</td>\n",
       "      <td>65802</td>\n",
       "    </tr>\n",
       "    <tr>\n",
       "      <th>True</th>\n",
       "      <td>2962</td>\n",
       "      <td>2962</td>\n",
       "    </tr>\n",
       "    <tr>\n",
       "      <th rowspan=\"2\" valign=\"top\">True</th>\n",
       "      <th>False</th>\n",
       "      <td>2933</td>\n",
       "      <td>2933</td>\n",
       "    </tr>\n",
       "    <tr>\n",
       "      <th>True</th>\n",
       "      <td>3303</td>\n",
       "      <td>3303</td>\n",
       "    </tr>\n",
       "  </tbody>\n",
       "</table>\n",
       "</div>"
      ],
      "text/plain": [
       "                                 Chocolate Coffee  Chocolate Cake\n",
       "Chocolate Coffee Chocolate Cake                                  \n",
       "False            False                      65802           65802\n",
       "                 True                        2962            2962\n",
       "True             False                       2933            2933\n",
       "                 True                        3303            3303"
      ]
     },
     "execution_count": 19,
     "metadata": {},
     "output_type": "execute_result"
    }
   ],
   "source": [
    "f = selection.groupby([item1_count,\n",
    "                       item2_count]).count()\n",
    "f"
   ]
  },
  {
   "cell_type": "code",
   "execution_count": 18,
   "metadata": {},
   "outputs": [
    {
     "name": "stdout",
     "output_type": "stream",
     "text": [
      "0.485566492528\n",
      "0.485566492528\n"
     ]
    }
   ],
   "source": [
    "print(data['Chocolate Coffee'].corr(data['Chocolate Cake']))\n",
    "print(data['Chocolate Cake'].corr(data['Chocolate Coffee']))"
   ]
  },
  {
   "cell_type": "code",
   "execution_count": 12,
   "metadata": {},
   "outputs": [],
   "source": [
    "f00 = f[item1_name][0][0]\n",
    "f01 = f[item1_name][0][1]\n",
    "f10 = f[item2_name][1][0]\n",
    "f11 = f[item2_name][1][1]\n",
    "f1p = f11 + f10\n",
    "fp1 = f11 + f01\n",
    "f0p = f01 + f00\n",
    "fp0 = f10 + f00"
   ]
  },
  {
   "cell_type": "code",
   "execution_count": 22,
   "metadata": {},
   "outputs": [
    {
     "name": "stdout",
     "output_type": "stream",
     "text": [
      "0.485566492528\n",
      "0.485566492528\n"
     ]
    }
   ],
   "source": [
    "print((f11 * f00 - f10 * f01)/(math.sqrt(f1p * fp1 * f0p * fp0))) #corrcoef for rule 1\n",
    "print((f11 * f00 - f01 * f10)/(math.sqrt(fp1 * f1p * fp0 * f0p))) #corrcoef for rule 2"
   ]
  },
  {
   "cell_type": "code",
   "execution_count": null,
   "metadata": {
    "collapsed": true
   },
   "outputs": [],
   "source": []
  }
 ],
 "metadata": {
  "kernelspec": {
   "display_name": "Python 3",
   "language": "python",
   "name": "python3"
  },
  "language_info": {
   "codemirror_mode": {
    "name": "ipython",
    "version": 3
   },
   "file_extension": ".py",
   "mimetype": "text/x-python",
   "name": "python",
   "nbconvert_exporter": "python",
   "pygments_lexer": "ipython3",
   "version": "3.5.2"
  }
 },
 "nbformat": 4,
 "nbformat_minor": 2
}
