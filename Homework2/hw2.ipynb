{
 "cells": [
  {
   "cell_type": "code",
   "execution_count": 1,
   "metadata": {
    "collapsed": true
   },
   "outputs": [],
   "source": [
    "import numpy as np\n",
    "import pandas as pd\n",
    "from sklearn import datasets\n",
    "from sklearn.preprocessing import Imputer\n",
    "from sklearn import decomposition\n",
    "import matplotlib.pyplot as plt\n",
    "%matplotlib inline"
   ]
  },
  {
   "cell_type": "code",
   "execution_count": 2,
   "metadata": {
    "collapsed": true
   },
   "outputs": [],
   "source": [
    "from scipy import stats\n",
    "\n",
    "from sklearn.datasets import load_iris\n",
    "\n",
    "from sklearn.tree import DecisionTreeClassifier\n",
    "from sklearn.tree import export_graphviz\n",
    "\n",
    "from sklearn import model_selection\n",
    "from sklearn import metrics"
   ]
  },
  {
   "cell_type": "markdown",
   "metadata": {},
   "source": [
    "# Problem 1"
   ]
  },
  {
   "cell_type": "code",
   "execution_count": 5,
   "metadata": {},
   "outputs": [
    {
     "name": "stdout",
     "output_type": "stream",
     "text": [
      "max_depth = 1 \n",
      "              precision    recall  f1-score   support\n",
      "\n",
      "          0       1.00      1.00      1.00        10\n",
      "          1       0.00      0.00      0.00        13\n",
      "          2       0.35      1.00      0.52         7\n",
      "\n",
      "avg / total       0.41      0.57      0.45        30\n",
      "\n",
      "max_depth = 2 \n",
      "              precision    recall  f1-score   support\n",
      "\n",
      "          0       1.00      1.00      1.00        10\n",
      "          1       1.00      0.85      0.92        13\n",
      "          2       0.78      1.00      0.88         7\n",
      "\n",
      "avg / total       0.95      0.93      0.93        30\n",
      "\n",
      "max_depth = 3 \n",
      "              precision    recall  f1-score   support\n",
      "\n",
      "          0       1.00      1.00      1.00        10\n",
      "          1       1.00      0.85      0.92        13\n",
      "          2       0.78      1.00      0.88         7\n",
      "\n",
      "avg / total       0.95      0.93      0.93        30\n",
      "\n",
      "max_depth = 4 \n",
      "              precision    recall  f1-score   support\n",
      "\n",
      "          0       1.00      1.00      1.00        10\n",
      "          1       1.00      1.00      1.00        13\n",
      "          2       1.00      1.00      1.00         7\n",
      "\n",
      "avg / total       1.00      1.00      1.00        30\n",
      "\n",
      "max_depth = 5 \n",
      "              precision    recall  f1-score   support\n",
      "\n",
      "          0       1.00      1.00      1.00        10\n",
      "          1       1.00      0.85      0.92        13\n",
      "          2       0.78      1.00      0.88         7\n",
      "\n",
      "avg / total       0.95      0.93      0.93        30\n",
      "\n"
     ]
    },
    {
     "name": "stderr",
     "output_type": "stream",
     "text": [
      "/Users/zioayr/anaconda3/lib/python3.5/site-packages/sklearn/tree/tree.py:282: DeprecationWarning: The min_impurity_split parameter is deprecated and will be removed in version 0.21. Use the min_impurity_decrease parameter instead.\n",
      "  DeprecationWarning)\n",
      "/Users/zioayr/anaconda3/lib/python3.5/site-packages/sklearn/metrics/classification.py:1135: UndefinedMetricWarning: Precision and F-score are ill-defined and being set to 0.0 in labels with no predicted samples.\n",
      "  'precision', 'predicted', average, warn_for)\n",
      "/Users/zioayr/anaconda3/lib/python3.5/site-packages/sklearn/tree/tree.py:282: DeprecationWarning: The min_impurity_split parameter is deprecated and will be removed in version 0.21. Use the min_impurity_decrease parameter instead.\n",
      "  DeprecationWarning)\n",
      "/Users/zioayr/anaconda3/lib/python3.5/site-packages/sklearn/tree/tree.py:282: DeprecationWarning: The min_impurity_split parameter is deprecated and will be removed in version 0.21. Use the min_impurity_decrease parameter instead.\n",
      "  DeprecationWarning)\n",
      "/Users/zioayr/anaconda3/lib/python3.5/site-packages/sklearn/tree/tree.py:282: DeprecationWarning: The min_impurity_split parameter is deprecated and will be removed in version 0.21. Use the min_impurity_decrease parameter instead.\n",
      "  DeprecationWarning)\n",
      "/Users/zioayr/anaconda3/lib/python3.5/site-packages/sklearn/tree/tree.py:282: DeprecationWarning: The min_impurity_split parameter is deprecated and will be removed in version 0.21. Use the min_impurity_decrease parameter instead.\n",
      "  DeprecationWarning)\n"
     ]
    }
   ],
   "source": [
    "iris = load_iris()\n",
    "X = iris.data\n",
    "y = iris.target\n",
    "\n",
    "X_train, X_test, y_train, y_test = model_selection.train_test_split(X,\n",
    "                                                                    y,\n",
    "                                                                    test_size=0.2, \n",
    "                                                                    random_state=10)\n",
    "\n",
    "for i in range(5):\n",
    "    clf = DecisionTreeClassifier(max_depth=i+1, min_samples_split=5, min_samples_leaf=2, \n",
    "                                 min_impurity_split=0.095, random_state=6)\n",
    "    clf = clf.fit(X_train,\n",
    "                  y_train)\n",
    "    expected = y_test\n",
    "    predicted = clf.predict(X_test)\n",
    "    print('max_depth =', i+1, '\\n', metrics.classification_report(expected,\n",
    "                                        predicted))\n",
    "    \n",
    "    with open(\"iris.dot\",\n",
    "          'w') as f:\n",
    "        f = export_graphviz(clf,\n",
    "                            out_file=f)\n",
    "    import os\n",
    "    os.system(\"dot -Tpdf iris.dot -o iris\"+str(i+1)+\".pdf\")\n",
    "    os.unlink('iris.dot')"
   ]
  },
  {
   "cell_type": "code",
   "execution_count": 6,
   "metadata": {},
   "outputs": [
    {
     "name": "stdout",
     "output_type": "stream",
     "text": [
      "[[10  0  0]\n",
      " [ 0 11  2]\n",
      " [ 0  0  7]]\n"
     ]
    }
   ],
   "source": [
    "print(metrics.confusion_matrix(expected,\n",
    "                               predicted))"
   ]
  },
  {
   "cell_type": "code",
   "execution_count": 7,
   "metadata": {
    "collapsed": true
   },
   "outputs": [],
   "source": [
    "with open(\"iris.dot\",\n",
    "          'w') as f:\n",
    "    f = export_graphviz(clf,\n",
    "                        out_file=f)\n",
    "import os\n",
    "os.system(\"dot -Tpdf iris.dot -o iris.pdf\")\n",
    "os.unlink('iris.dot')"
   ]
  },
  {
   "cell_type": "markdown",
   "metadata": {},
   "source": [
    "# Problem 4"
   ]
  },
  {
   "cell_type": "code",
   "execution_count": 8,
   "metadata": {
    "collapsed": true
   },
   "outputs": [],
   "source": [
    "N = 1000\n",
    "u1 = 5\n",
    "u2 = -5\n",
    "s = 2\n",
    "\n",
    "x1 = np.random.normal(u1,s,N)\n",
    "x2 = np.random.normal(u2,s,N)\n",
    "c1 = np.repeat('c1',N)\n",
    "c2 = np.repeat('c2',N)\n",
    "\n",
    "df1 = pd.DataFrame(dict(zip(['feature','class'],[x1,c1])))\n",
    "df2 = pd.DataFrame(dict(zip(['feature','class'],[x2,c2])))\n",
    "df = pd.concat([df1, df2])"
   ]
  },
  {
   "cell_type": "code",
   "execution_count": 9,
   "metadata": {
    "collapsed": true
   },
   "outputs": [],
   "source": [
    "dfclf = DecisionTreeClassifier(max_depth=2)\n",
    "dfclf = dfclf.fit(df.iloc[:,1].values.reshape(-1, 1), df.iloc[:,0].values.reshape(-1, 1))"
   ]
  },
  {
   "cell_type": "code",
   "execution_count": 10,
   "metadata": {
    "collapsed": true
   },
   "outputs": [],
   "source": [
    "with open(\"p4.dot\",\n",
    "          'w') as f:\n",
    "        f = export_graphviz(dfclf,\n",
    "                            out_file=f)\n",
    "import os\n",
    "os.system(\"dot -Tpdf p4.dot -o p4.pdf\")\n",
    "os.unlink('p4.dot')"
   ]
  },
  {
   "cell_type": "code",
   "execution_count": null,
   "metadata": {
    "collapsed": true
   },
   "outputs": [],
   "source": []
  }
 ],
 "metadata": {
  "kernelspec": {
   "display_name": "Python 3",
   "language": "python",
   "name": "python3"
  },
  "language_info": {
   "codemirror_mode": {
    "name": "ipython",
    "version": 3
   },
   "file_extension": ".py",
   "mimetype": "text/x-python",
   "name": "python",
   "nbconvert_exporter": "python",
   "pygments_lexer": "ipython3",
   "version": "3.5.2"
  }
 },
 "nbformat": 4,
 "nbformat_minor": 2
}
