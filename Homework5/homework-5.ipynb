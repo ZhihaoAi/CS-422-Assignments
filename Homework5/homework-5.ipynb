{
 "cells": [
  {
   "cell_type": "code",
   "execution_count": 1,
   "metadata": {
    "collapsed": true
   },
   "outputs": [],
   "source": [
    "import numpy as np\n",
    "import pandas as pd\n",
    "\n",
    "import matplotlib.pyplot as plt\n",
    "import seaborn as sns\n",
    "\n",
    "from sklearn.datasets import load_boston\n",
    "from sklearn.datasets import load_wine\n",
    "from sklearn.cluster import KMeans\n",
    "\n",
    "from sklearn import preprocessing\n",
    "from sklearn import metrics\n"
   ]
  },
  {
   "cell_type": "code",
   "execution_count": 2,
   "metadata": {
    "collapsed": true
   },
   "outputs": [],
   "source": [
    "%matplotlib inline"
   ]
  },
  {
   "cell_type": "markdown",
   "metadata": {},
   "source": [
    "# Problem 3"
   ]
  },
  {
   "cell_type": "code",
   "execution_count": 380,
   "metadata": {
    "collapsed": true
   },
   "outputs": [],
   "source": [
    "dataset = load_boston()\n",
    "df = pd.DataFrame(data=dataset.data,\n",
    "                  columns=dataset.feature_names)\n",
    "df_scaled = pd.DataFrame(data=preprocessing.scale(dataset.data),\n",
    "                         columns=dataset.feature_names)"
   ]
  },
  {
   "cell_type": "code",
   "execution_count": 381,
   "metadata": {},
   "outputs": [
    {
     "name": "stdout",
     "output_type": "stream",
     "text": [
      "k = 2 : silhouette = 0.359977342374\n",
      "k = 3 : silhouette = 0.257343737611\n",
      "k = 4 : silhouette = 0.280818056241\n",
      "k = 5 : silhouette = 0.287487114889\n",
      "k = 6 : silhouette = 0.262180431\n"
     ]
    }
   ],
   "source": [
    "clust_models = [KMeans(n_clusters=i,\n",
    "                       init='k-means++') for i in range(2,7)]\n",
    "clust_labels = [clust_models[i].fit_predict(df_scaled) for i in range(5)]\n",
    "silhouette_avgs = [metrics.silhouette_score(df_scaled,\n",
    "                                            clust_labels[i]) for i in range(5)]\n",
    "for i in range(5):\n",
    "    print('k =', i+2, ': silhouette =',silhouette_avgs[i])"
   ]
  },
  {
   "cell_type": "code",
   "execution_count": 382,
   "metadata": {
    "collapsed": true
   },
   "outputs": [],
   "source": [
    "#df['MEDV'] = dataset.target\n",
    "df_scaled['MEDV'] = preprocessing.scale(dataset.target)\n",
    "\n",
    "#df['CLUST'] = clust_labels\n",
    "df_scaled['CLUST'] = clust_labels[0]"
   ]
  },
  {
   "cell_type": "code",
   "execution_count": 383,
   "metadata": {
    "collapsed": true
   },
   "outputs": [],
   "source": [
    "C0 = df_scaled.loc[df_scaled['CLUST'] == 0]\n",
    "C1 = df_scaled.loc[df_scaled['CLUST'] == 1]"
   ]
  },
  {
   "cell_type": "code",
   "execution_count": 407,
   "metadata": {},
   "outputs": [
    {
     "name": "stdout",
     "output_type": "stream",
     "text": [
      "Cluster 0:\n",
      "          CRIM        ZN     INDUS      CHAS       NOX        RM      AGE  \\\n",
      "mean  0.72127 -0.487722  1.153113 -0.005412  1.086769 -0.452263  0.80876   \n",
      "\n",
      "           DIS       RAD       TAX   PTRATIO         B     LSTAT      MEDV  \n",
      "mean -0.849865  1.085145  1.173731  0.531248 -0.606793  0.829787 -0.650815   \n",
      "\n",
      "Cluster 1:\n",
      "           CRIM        ZN     INDUS      CHAS       NOX        RM       AGE  \\\n",
      "mean -0.388039  0.262392 -0.620368  0.002912 -0.584675  0.243315 -0.435108   \n",
      "\n",
      "           DIS       RAD      TAX   PTRATIO         B     LSTAT      MEDV  \n",
      "mean  0.457222 -0.583801 -0.63146 -0.285808  0.326451 -0.446421  0.350135  \n"
     ]
    }
   ],
   "source": [
    "print('Cluster 0:\\n',\n",
    "      C0.describe().iloc[1:2,:-1],\n",
    "      '\\n\\nCluster 1:\\n',\n",
    "      C1.describe().iloc[1:2,:-1])"
   ]
  },
  {
   "cell_type": "markdown",
   "metadata": {},
   "source": [
    "# Problem 4"
   ]
  },
  {
   "cell_type": "code",
   "execution_count": 6,
   "metadata": {
    "collapsed": true
   },
   "outputs": [],
   "source": [
    "dataset_wine = load_wine()\n",
    "df_scaled_wine = pd.DataFrame(data=preprocessing.scale(dataset_wine.data),\n",
    "                              columns=dataset_wine.feature_names)"
   ]
  },
  {
   "cell_type": "code",
   "execution_count": 7,
   "metadata": {
    "collapsed": true
   },
   "outputs": [],
   "source": [
    "clust_model = KMeans(n_clusters=3,\n",
    "                     init='k-means++')\n",
    "clust_labels_wine = clust_model.fit_predict(df_scaled_wine)"
   ]
  },
  {
   "cell_type": "code",
   "execution_count": 8,
   "metadata": {},
   "outputs": [],
   "source": [
    "h_score = metrics.homogeneity_score(dataset_wine.target,\n",
    "                                    clust_labels_wine)\n",
    "c_score = metrics.completeness_score(dataset_wine.target,\n",
    "                                     clust_labels_wine)"
   ]
  },
  {
   "cell_type": "code",
   "execution_count": 9,
   "metadata": {},
   "outputs": [
    {
     "name": "stdout",
     "output_type": "stream",
     "text": [
      "Homogeneity score: 0.878843200366 \n",
      "Completeness score: 0.872963601608\n"
     ]
    }
   ],
   "source": [
    "print('Homogeneity score:', h_score,\n",
    "      '\\nCompleteness score:', c_score)"
   ]
  },
  {
   "cell_type": "code",
   "execution_count": null,
   "metadata": {
    "collapsed": true
   },
   "outputs": [],
   "source": []
  }
 ],
 "metadata": {
  "kernelspec": {
   "display_name": "Python 3",
   "language": "python",
   "name": "python3"
  },
  "language_info": {
   "codemirror_mode": {
    "name": "ipython",
    "version": 3
   },
   "file_extension": ".py",
   "mimetype": "text/x-python",
   "name": "python",
   "nbconvert_exporter": "python",
   "pygments_lexer": "ipython3",
   "version": "3.5.2"
  }
 },
 "nbformat": 4,
 "nbformat_minor": 1
}
